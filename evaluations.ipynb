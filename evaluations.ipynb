{
 "cells": [
  {
   "cell_type": "markdown",
   "metadata": {},
   "source": [
    "# Evaluating LLM, RAG, Agents\n"
   ]
  },
  {
   "cell_type": "markdown",
   "metadata": {},
   "source": [
    "## Loading Documents\n"
   ]
  },
  {
   "cell_type": "code",
   "execution_count": null,
   "metadata": {},
   "outputs": [
    {
     "data": {
      "text/plain": [
       "12"
      ]
     },
     "execution_count": 2,
     "metadata": {},
     "output_type": "execute_result"
    }
   ],
   "source": [
    "from llama_index.core import SimpleDirectoryReader\n",
    "\n",
    "documents = SimpleDirectoryReader(\"./data/samples/\").load_data()\n",
    "len(documents)"
   ]
  },
  {
   "cell_type": "markdown",
   "metadata": {},
   "source": [
    "## Initialization\n"
   ]
  },
  {
   "cell_type": "code",
   "execution_count": 3,
   "metadata": {},
   "outputs": [],
   "source": [
    "from dotenv import load_dotenv, find_dotenv\n",
    "\n",
    "load_dotenv(find_dotenv())\n",
    "\n",
    "from ragas.testset import TestsetGenerator\n",
    "from ragas.llms import LlamaIndexLLMWrapper\n",
    "from ragas.embeddings import LlamaIndexEmbeddingsWrapper\n",
    "\n",
    "from llama_index.llms.openai import OpenAI\n",
    "from llama_index.embeddings.openai import OpenAIEmbedding\n",
    "\n",
    "# generator with openai models\n",
    "generator_llm = OpenAI(model=\"gpt-4o-mini\")\n",
    "embeddings = OpenAIEmbedding(model=\"text-embedding-3-small\")\n",
    "\n",
    "generator = TestsetGenerator.from_llama_index(\n",
    "    llm=generator_llm,\n",
    "    embedding_model=embeddings,\n",
    ")"
   ]
  },
  {
   "cell_type": "code",
   "execution_count": 4,
   "metadata": {},
   "outputs": [
    {
     "data": {
      "application/vnd.jupyter.widget-view+json": {
       "model_id": "e46e0f33e8d04436af06dae19915770f",
       "version_major": 2,
       "version_minor": 0
      },
      "text/plain": [
       "Applying HeadlinesExtractor:   0%|          | 0/8 [00:00<?, ?it/s]"
      ]
     },
     "metadata": {},
     "output_type": "display_data"
    },
    {
     "data": {
      "application/vnd.jupyter.widget-view+json": {
       "model_id": "612cabecfc734ffda6cb2ee8afcba684",
       "version_major": 2,
       "version_minor": 0
      },
      "text/plain": [
       "Applying HeadlineSplitter:   0%|          | 0/12 [00:00<?, ?it/s]"
      ]
     },
     "metadata": {},
     "output_type": "display_data"
    },
    {
     "name": "stderr",
     "output_type": "stream",
     "text": [
      "unable to apply transformation: 'headlines' property not found in this node\n",
      "unable to apply transformation: 'headlines' property not found in this node\n",
      "unable to apply transformation: 'headlines' property not found in this node\n",
      "unable to apply transformation: 'headlines' property not found in this node\n"
     ]
    },
    {
     "data": {
      "application/vnd.jupyter.widget-view+json": {
       "model_id": "5512a25a0628467d9badac85205163b3",
       "version_major": 2,
       "version_minor": 0
      },
      "text/plain": [
       "Applying SummaryExtractor:   0%|          | 0/11 [00:00<?, ?it/s]"
      ]
     },
     "metadata": {},
     "output_type": "display_data"
    },
    {
     "name": "stderr",
     "output_type": "stream",
     "text": [
      "Property 'summary' already exists in node 'ffe5c6'. Skipping!\n",
      "Property 'summary' already exists in node '4ed724'. Skipping!\n",
      "Property 'summary' already exists in node '86d33c'. Skipping!\n"
     ]
    },
    {
     "data": {
      "application/vnd.jupyter.widget-view+json": {
       "model_id": "70f6b2e54088434989bcc201a44028cd",
       "version_major": 2,
       "version_minor": 0
      },
      "text/plain": [
       "Applying CustomNodeFilter:   0%|          | 0/16 [00:00<?, ?it/s]"
      ]
     },
     "metadata": {},
     "output_type": "display_data"
    },
    {
     "data": {
      "application/vnd.jupyter.widget-view+json": {
       "model_id": "2692822ae7794fd2bd205ce50315cd9e",
       "version_major": 2,
       "version_minor": 0
      },
      "text/plain": [
       "Applying [EmbeddingExtractor, ThemesExtractor, NERExtractor]:   0%|          | 0/43 [00:00<?, ?it/s]"
      ]
     },
     "metadata": {},
     "output_type": "display_data"
    },
    {
     "name": "stderr",
     "output_type": "stream",
     "text": [
      "Property 'summary_embedding' already exists in node 'ffe5c6'. Skipping!\n",
      "Property 'summary_embedding' already exists in node '86d33c'. Skipping!\n",
      "Property 'summary_embedding' already exists in node '4ed724'. Skipping!\n"
     ]
    },
    {
     "data": {
      "application/vnd.jupyter.widget-view+json": {
       "model_id": "3c2795db06544e8ab7ec06ffd8920f70",
       "version_major": 2,
       "version_minor": 0
      },
      "text/plain": [
       "Applying [CosineSimilarityBuilder, OverlapScoreBuilder]:   0%|          | 0/2 [00:00<?, ?it/s]"
      ]
     },
     "metadata": {},
     "output_type": "display_data"
    },
    {
     "data": {
      "application/vnd.jupyter.widget-view+json": {
       "model_id": "b89e0ca436c84ba99b8eed87bed8d972",
       "version_major": 2,
       "version_minor": 0
      },
      "text/plain": [
       "Generating personas:   0%|          | 0/3 [00:00<?, ?it/s]"
      ]
     },
     "metadata": {},
     "output_type": "display_data"
    },
    {
     "data": {
      "application/vnd.jupyter.widget-view+json": {
       "model_id": "d6e572dd37e5430d857d69ccbfde5826",
       "version_major": 2,
       "version_minor": 0
      },
      "text/plain": [
       "Generating Scenarios:   0%|          | 0/3 [00:00<?, ?it/s]"
      ]
     },
     "metadata": {},
     "output_type": "display_data"
    },
    {
     "data": {
      "application/vnd.jupyter.widget-view+json": {
       "model_id": "22fc6998366a4b3fa689df0199a91fc2",
       "version_major": 2,
       "version_minor": 0
      },
      "text/plain": [
       "Generating Samples:   0%|          | 0/6 [00:00<?, ?it/s]"
      ]
     },
     "metadata": {},
     "output_type": "display_data"
    }
   ],
   "source": [
    "testset = generator.generate_with_llamaindex_docs(\n",
    "    documents,\n",
    "    testset_size=5,\n",
    ")"
   ]
  },
  {
   "cell_type": "code",
   "execution_count": 5,
   "metadata": {},
   "outputs": [
    {
     "data": {
      "text/html": [
       "<div>\n",
       "<style scoped>\n",
       "    .dataframe tbody tr th:only-of-type {\n",
       "        vertical-align: middle;\n",
       "    }\n",
       "\n",
       "    .dataframe tbody tr th {\n",
       "        vertical-align: top;\n",
       "    }\n",
       "\n",
       "    .dataframe thead th {\n",
       "        text-align: right;\n",
       "    }\n",
       "</style>\n",
       "<table border=\"1\" class=\"dataframe\">\n",
       "  <thead>\n",
       "    <tr style=\"text-align: right;\">\n",
       "      <th></th>\n",
       "      <th>user_input</th>\n",
       "      <th>reference_contexts</th>\n",
       "      <th>reference</th>\n",
       "      <th>synthesizer_name</th>\n",
       "    </tr>\n",
       "  </thead>\n",
       "  <tbody>\n",
       "    <tr>\n",
       "      <th>0</th>\n",
       "      <td>What GitLab say about being ally and how it re...</td>\n",
       "      <td>[--- title: \"The Ally Lab\" description: Learn ...</td>\n",
       "      <td>At GitLab, it is required to be inclusive, but...</td>\n",
       "      <td>single_hop_specifc_query_synthesizer</td>\n",
       "    </tr>\n",
       "    <tr>\n",
       "      <th>1</th>\n",
       "      <td>How can Zoom be utilized to promote allyship i...</td>\n",
       "      <td>[Skills and Behaviors of allies To be an effec...</td>\n",
       "      <td>Zoom can be utilized to promote allyship by pr...</td>\n",
       "      <td>single_hop_specifc_query_synthesizer</td>\n",
       "    </tr>\n",
       "    <tr>\n",
       "      <th>2</th>\n",
       "      <td>How can company engagement surveys be utilized...</td>\n",
       "      <td>[&lt;1-hop&gt;\\n\\n--- title: \"Building an Inclusive ...</td>\n",
       "      <td>Company engagement surveys can be utilized to ...</td>\n",
       "      <td>multi_hop_abstract_query_synthesizer</td>\n",
       "    </tr>\n",
       "    <tr>\n",
       "      <th>3</th>\n",
       "      <td>What are the goals of the Privilege for Sale a...</td>\n",
       "      <td>[&lt;1-hop&gt;\\n\\n--- title: \"Roundtables\" descripti...</td>\n",
       "      <td>The goals of the Privilege for Sale activity i...</td>\n",
       "      <td>multi_hop_abstract_query_synthesizer</td>\n",
       "    </tr>\n",
       "    <tr>\n",
       "      <th>4</th>\n",
       "      <td>What role does Marina Brownrigg play in the DI...</td>\n",
       "      <td>[&lt;1-hop&gt;\\n\\nDIB Monthly Initiatives Call We ho...</td>\n",
       "      <td>Marina Brownrigg serves as the Directly Respon...</td>\n",
       "      <td>multi_hop_specific_query_synthesizer</td>\n",
       "    </tr>\n",
       "  </tbody>\n",
       "</table>\n",
       "</div>"
      ],
      "text/plain": [
       "                                          user_input  \\\n",
       "0  What GitLab say about being ally and how it re...   \n",
       "1  How can Zoom be utilized to promote allyship i...   \n",
       "2  How can company engagement surveys be utilized...   \n",
       "3  What are the goals of the Privilege for Sale a...   \n",
       "4  What role does Marina Brownrigg play in the DI...   \n",
       "\n",
       "                                  reference_contexts  \\\n",
       "0  [--- title: \"The Ally Lab\" description: Learn ...   \n",
       "1  [Skills and Behaviors of allies To be an effec...   \n",
       "2  [<1-hop>\\n\\n--- title: \"Building an Inclusive ...   \n",
       "3  [<1-hop>\\n\\n--- title: \"Roundtables\" descripti...   \n",
       "4  [<1-hop>\\n\\nDIB Monthly Initiatives Call We ho...   \n",
       "\n",
       "                                           reference  \\\n",
       "0  At GitLab, it is required to be inclusive, but...   \n",
       "1  Zoom can be utilized to promote allyship by pr...   \n",
       "2  Company engagement surveys can be utilized to ...   \n",
       "3  The goals of the Privilege for Sale activity i...   \n",
       "4  Marina Brownrigg serves as the Directly Respon...   \n",
       "\n",
       "                       synthesizer_name  \n",
       "0  single_hop_specifc_query_synthesizer  \n",
       "1  single_hop_specifc_query_synthesizer  \n",
       "2  multi_hop_abstract_query_synthesizer  \n",
       "3  multi_hop_abstract_query_synthesizer  \n",
       "4  multi_hop_specific_query_synthesizer  "
      ]
     },
     "execution_count": 5,
     "metadata": {},
     "output_type": "execute_result"
    }
   ],
   "source": [
    "df = testset.to_pandas()\n",
    "df.head()"
   ]
  },
  {
   "cell_type": "markdown",
   "metadata": {},
   "source": [
    "## Build a `QueryEngine`\n"
   ]
  },
  {
   "cell_type": "code",
   "execution_count": 6,
   "metadata": {},
   "outputs": [],
   "source": [
    "from llama_index.core import VectorStoreIndex\n",
    "\n",
    "vector_index = VectorStoreIndex.from_documents(documents)\n",
    "\n",
    "query_engine = vector_index.as_query_engine()"
   ]
  },
  {
   "cell_type": "code",
   "execution_count": 9,
   "metadata": {},
   "outputs": [
    {
     "name": "stdout",
     "output_type": "stream",
     "text": [
      "Being an ally at GitLab involves taking proactive and purposeful action to support marginalized groups and remove barriers that hinder individuals from contributing their skills and talents in the workplace or community. It goes beyond just being inclusive and requires individuals to actively educate themselves about the experiences and struggles of others. GitLab emphasizes the importance of skills and behaviors such as active listening, empathy, active learning about other experiences, humility, courage, and self-awareness in order to effectively support and advocate for marginalized groups. By embodying these qualities and actively engaging in allyship, individuals can contribute to creating a more diverse, inclusive, and supportive workplace environment.\n"
     ]
    }
   ],
   "source": [
    "response_vector = query_engine.query(df[\"user_input\"][0])\n",
    "\n",
    "print(response_vector)"
   ]
  },
  {
   "cell_type": "markdown",
   "metadata": {},
   "source": [
    "## Evaluating the `QueryEngine`\n"
   ]
  },
  {
   "cell_type": "code",
   "execution_count": 11,
   "metadata": {},
   "outputs": [],
   "source": [
    "# import metrics\n",
    "from ragas.metrics import (\n",
    "    ContextPrecision,\n",
    "    ContextRecall,\n",
    "    Faithfulness,\n",
    "    AnswerRelevancy,\n",
    "    AnswerCorrectness\n",
    ")\n",
    "\n",
    "# init metrics with evaluator LLM\n",
    "from ragas.llms import LlamaIndexLLMWrapper\n",
    "\n",
    "evaluator_llm = LlamaIndexLLMWrapper(OpenAI(model=\"gpt-4o\"))\n",
    "metrics = [\n",
    "    Faithfulness(llm=evaluator_llm),\n",
    "    AnswerRelevancy(llm=evaluator_llm),\n",
    "    ContextPrecision(llm=evaluator_llm),\n",
    "    ContextRecall(llm=evaluator_llm),\n",
    "    AnswerCorrectness(llm=evaluator_llm)\n",
    "]"
   ]
  },
  {
   "cell_type": "code",
   "execution_count": 12,
   "metadata": {},
   "outputs": [
    {
     "data": {
      "text/plain": [
       "EvaluationDataset(features=['user_input', 'reference_contexts', 'reference'], len=6)"
      ]
     },
     "execution_count": 12,
     "metadata": {},
     "output_type": "execute_result"
    }
   ],
   "source": [
    "# convert to Ragas Evaluation Dataset\n",
    "ragas_dataset = testset.to_evaluation_dataset()\n",
    "ragas_dataset"
   ]
  },
  {
   "cell_type": "code",
   "execution_count": 13,
   "metadata": {},
   "outputs": [
    {
     "data": {
      "application/vnd.jupyter.widget-view+json": {
       "model_id": "64557c0ec02f4c239e14582c0e4eb055",
       "version_major": 2,
       "version_minor": 0
      },
      "text/plain": [
       "Running Query Engine:   0%|          | 0/6 [00:00<?, ?it/s]"
      ]
     },
     "metadata": {},
     "output_type": "display_data"
    },
    {
     "data": {
      "application/vnd.jupyter.widget-view+json": {
       "model_id": "aa06449c07ab43df92932c3cf512467b",
       "version_major": 2,
       "version_minor": 0
      },
      "text/plain": [
       "Evaluating:   0%|          | 0/30 [00:00<?, ?it/s]"
      ]
     },
     "metadata": {},
     "output_type": "display_data"
    }
   ],
   "source": [
    "from ragas.integrations.llama_index import evaluate\n",
    "\n",
    "result = evaluate(\n",
    "    query_engine=query_engine,\n",
    "    metrics=metrics,\n",
    "    dataset=ragas_dataset,\n",
    ")"
   ]
  },
  {
   "cell_type": "code",
   "execution_count": 16,
   "metadata": {},
   "outputs": [
    {
     "name": "stdout",
     "output_type": "stream",
     "text": [
      "{'faithfulness': 0.8778, 'answer_relevancy': 0.9574, 'context_precision': 1.0000, 'context_recall': 1.0000, 'answer_correctness': 0.5576}\n"
     ]
    }
   ],
   "source": [
    "from pprint import pprint\n",
    "pprint(result, indent=4)"
   ]
  },
  {
   "cell_type": "code",
   "execution_count": 17,
   "metadata": {},
   "outputs": [
    {
     "data": {
      "text/html": [
       "<div>\n",
       "<style scoped>\n",
       "    .dataframe tbody tr th:only-of-type {\n",
       "        vertical-align: middle;\n",
       "    }\n",
       "\n",
       "    .dataframe tbody tr th {\n",
       "        vertical-align: top;\n",
       "    }\n",
       "\n",
       "    .dataframe thead th {\n",
       "        text-align: right;\n",
       "    }\n",
       "</style>\n",
       "<table border=\"1\" class=\"dataframe\">\n",
       "  <thead>\n",
       "    <tr style=\"text-align: right;\">\n",
       "      <th></th>\n",
       "      <th>user_input</th>\n",
       "      <th>retrieved_contexts</th>\n",
       "      <th>reference_contexts</th>\n",
       "      <th>response</th>\n",
       "      <th>reference</th>\n",
       "      <th>faithfulness</th>\n",
       "      <th>answer_relevancy</th>\n",
       "      <th>context_precision</th>\n",
       "      <th>context_recall</th>\n",
       "      <th>answer_correctness</th>\n",
       "    </tr>\n",
       "  </thead>\n",
       "  <tbody>\n",
       "    <tr>\n",
       "      <th>0</th>\n",
       "      <td>What GitLab say about being ally and how it re...</td>\n",
       "      <td>[---\\ntitle: \"The Ally Lab\"\\ndescription: Lear...</td>\n",
       "      <td>[--- title: \"The Ally Lab\" description: Learn ...</td>\n",
       "      <td>Being an ally at GitLab involves taking proact...</td>\n",
       "      <td>At GitLab, it is required to be inclusive, but...</td>\n",
       "      <td>1.000000</td>\n",
       "      <td>0.917890</td>\n",
       "      <td>1.0</td>\n",
       "      <td>1.0</td>\n",
       "      <td>0.560615</td>\n",
       "    </tr>\n",
       "    <tr>\n",
       "      <th>1</th>\n",
       "      <td>How can Zoom be utilized to promote allyship i...</td>\n",
       "      <td>[Teach people how to disagree, set the expecta...</td>\n",
       "      <td>[Skills and Behaviors of allies To be an effec...</td>\n",
       "      <td>Zoom can be utilized to promote allyship in di...</td>\n",
       "      <td>Zoom can be utilized to promote allyship by pr...</td>\n",
       "      <td>1.000000</td>\n",
       "      <td>1.000000</td>\n",
       "      <td>1.0</td>\n",
       "      <td>1.0</td>\n",
       "      <td>0.527588</td>\n",
       "    </tr>\n",
       "    <tr>\n",
       "      <th>2</th>\n",
       "      <td>How can company engagement surveys be utilized...</td>\n",
       "      <td>[---\\ntitle: \"Building an Inclusive Remote Cul...</td>\n",
       "      <td>[&lt;1-hop&gt;\\n\\n--- title: \"Building an Inclusive ...</td>\n",
       "      <td>Company engagement surveys can be utilized to ...</td>\n",
       "      <td>Company engagement surveys can be utilized to ...</td>\n",
       "      <td>0.933333</td>\n",
       "      <td>0.952433</td>\n",
       "      <td>1.0</td>\n",
       "      <td>1.0</td>\n",
       "      <td>0.540580</td>\n",
       "    </tr>\n",
       "    <tr>\n",
       "      <th>3</th>\n",
       "      <td>What are the goals of the Privilege for Sale a...</td>\n",
       "      <td>[A DIB Team Member will set up a time to discu...</td>\n",
       "      <td>[&lt;1-hop&gt;\\n\\n--- title: \"Roundtables\" descripti...</td>\n",
       "      <td>The goals of the Privilege for Sale activity i...</td>\n",
       "      <td>The goals of the Privilege for Sale activity i...</td>\n",
       "      <td>1.000000</td>\n",
       "      <td>0.982884</td>\n",
       "      <td>1.0</td>\n",
       "      <td>1.0</td>\n",
       "      <td>0.748442</td>\n",
       "    </tr>\n",
       "    <tr>\n",
       "      <th>4</th>\n",
       "      <td>What role does Marina Brownrigg play in the DI...</td>\n",
       "      <td>[---\\ntitle: Diversity Inclusion &amp; Belonging C...</td>\n",
       "      <td>[&lt;1-hop&gt;\\n\\nDIB Monthly Initiatives Call We ho...</td>\n",
       "      <td>Marina Brownrigg serves as the DRI (Directly R...</td>\n",
       "      <td>Marina Brownrigg serves as the Directly Respon...</td>\n",
       "      <td>0.333333</td>\n",
       "      <td>0.891996</td>\n",
       "      <td>1.0</td>\n",
       "      <td>1.0</td>\n",
       "      <td>0.510638</td>\n",
       "    </tr>\n",
       "    <tr>\n",
       "      <th>5</th>\n",
       "      <td>What are some essential skills and strategies ...</td>\n",
       "      <td>[--- One of the mistakes that often happens he...</td>\n",
       "      <td>[&lt;1-hop&gt;\\n\\nWhat it means to be an ally - Take...</td>\n",
       "      <td>Some essential skills and strategies for being...</td>\n",
       "      <td>To be an effective ally, it is essential to id...</td>\n",
       "      <td>1.000000</td>\n",
       "      <td>0.998924</td>\n",
       "      <td>1.0</td>\n",
       "      <td>1.0</td>\n",
       "      <td>0.457451</td>\n",
       "    </tr>\n",
       "  </tbody>\n",
       "</table>\n",
       "</div>"
      ],
      "text/plain": [
       "                                          user_input  \\\n",
       "0  What GitLab say about being ally and how it re...   \n",
       "1  How can Zoom be utilized to promote allyship i...   \n",
       "2  How can company engagement surveys be utilized...   \n",
       "3  What are the goals of the Privilege for Sale a...   \n",
       "4  What role does Marina Brownrigg play in the DI...   \n",
       "5  What are some essential skills and strategies ...   \n",
       "\n",
       "                                  retrieved_contexts  \\\n",
       "0  [---\\ntitle: \"The Ally Lab\"\\ndescription: Lear...   \n",
       "1  [Teach people how to disagree, set the expecta...   \n",
       "2  [---\\ntitle: \"Building an Inclusive Remote Cul...   \n",
       "3  [A DIB Team Member will set up a time to discu...   \n",
       "4  [---\\ntitle: Diversity Inclusion & Belonging C...   \n",
       "5  [--- One of the mistakes that often happens he...   \n",
       "\n",
       "                                  reference_contexts  \\\n",
       "0  [--- title: \"The Ally Lab\" description: Learn ...   \n",
       "1  [Skills and Behaviors of allies To be an effec...   \n",
       "2  [<1-hop>\\n\\n--- title: \"Building an Inclusive ...   \n",
       "3  [<1-hop>\\n\\n--- title: \"Roundtables\" descripti...   \n",
       "4  [<1-hop>\\n\\nDIB Monthly Initiatives Call We ho...   \n",
       "5  [<1-hop>\\n\\nWhat it means to be an ally - Take...   \n",
       "\n",
       "                                            response  \\\n",
       "0  Being an ally at GitLab involves taking proact...   \n",
       "1  Zoom can be utilized to promote allyship in di...   \n",
       "2  Company engagement surveys can be utilized to ...   \n",
       "3  The goals of the Privilege for Sale activity i...   \n",
       "4  Marina Brownrigg serves as the DRI (Directly R...   \n",
       "5  Some essential skills and strategies for being...   \n",
       "\n",
       "                                           reference  faithfulness  \\\n",
       "0  At GitLab, it is required to be inclusive, but...      1.000000   \n",
       "1  Zoom can be utilized to promote allyship by pr...      1.000000   \n",
       "2  Company engagement surveys can be utilized to ...      0.933333   \n",
       "3  The goals of the Privilege for Sale activity i...      1.000000   \n",
       "4  Marina Brownrigg serves as the Directly Respon...      0.333333   \n",
       "5  To be an effective ally, it is essential to id...      1.000000   \n",
       "\n",
       "   answer_relevancy  context_precision  context_recall  answer_correctness  \n",
       "0          0.917890                1.0             1.0            0.560615  \n",
       "1          1.000000                1.0             1.0            0.527588  \n",
       "2          0.952433                1.0             1.0            0.540580  \n",
       "3          0.982884                1.0             1.0            0.748442  \n",
       "4          0.891996                1.0             1.0            0.510638  \n",
       "5          0.998924                1.0             1.0            0.457451  "
      ]
     },
     "execution_count": 17,
     "metadata": {},
     "output_type": "execute_result"
    }
   ],
   "source": [
    "result.to_pandas()"
   ]
  },
  {
   "cell_type": "markdown",
   "metadata": {},
   "source": [
    "## Questions: SingleHop vs MultiHop\n"
   ]
  },
  {
   "cell_type": "code",
   "execution_count": 22,
   "metadata": {},
   "outputs": [],
   "source": [
    "from ragas.testset.synthesizers.single_hop.specific import SingleHopSpecificQuerySynthesizer\n",
    "from ragas.testset.synthesizers.multi_hop.specific import MultiHopSpecificQuerySynthesizer\n",
    "from ragas.testset.synthesizers.multi_hop.abstract import MultiHopAbstractQuerySynthesizer"
   ]
  },
  {
   "cell_type": "code",
   "execution_count": 23,
   "metadata": {},
   "outputs": [
    {
     "data": {
      "application/vnd.jupyter.widget-view+json": {
       "model_id": "0125ff21ed8348098e3d8a0c36f2fbc9",
       "version_major": 2,
       "version_minor": 0
      },
      "text/plain": [
       "Applying HeadlinesExtractor:   0%|          | 0/8 [00:00<?, ?it/s]"
      ]
     },
     "metadata": {},
     "output_type": "display_data"
    },
    {
     "data": {
      "application/vnd.jupyter.widget-view+json": {
       "model_id": "aede33ff40174cc68f8834f4ae2a0a1d",
       "version_major": 2,
       "version_minor": 0
      },
      "text/plain": [
       "Applying HeadlineSplitter:   0%|          | 0/12 [00:00<?, ?it/s]"
      ]
     },
     "metadata": {},
     "output_type": "display_data"
    },
    {
     "name": "stderr",
     "output_type": "stream",
     "text": [
      "unable to apply transformation: 'headlines' property not found in this node\n",
      "unable to apply transformation: 'headlines' property not found in this node\n",
      "unable to apply transformation: 'headlines' property not found in this node\n",
      "unable to apply transformation: 'headlines' property not found in this node\n"
     ]
    },
    {
     "data": {
      "application/vnd.jupyter.widget-view+json": {
       "model_id": "6bd1265b5d0444fda1f16ffb2ec2bb95",
       "version_major": 2,
       "version_minor": 0
      },
      "text/plain": [
       "Applying SummaryExtractor:   0%|          | 0/11 [00:00<?, ?it/s]"
      ]
     },
     "metadata": {},
     "output_type": "display_data"
    },
    {
     "name": "stderr",
     "output_type": "stream",
     "text": [
      "Property 'summary' already exists in node '59c3f4'. Skipping!\n",
      "Property 'summary' already exists in node 'bc5355'. Skipping!\n",
      "Property 'summary' already exists in node 'b0f265'. Skipping!\n"
     ]
    },
    {
     "data": {
      "application/vnd.jupyter.widget-view+json": {
       "model_id": "dbd53589ea474713b5ddb5088baf4b59",
       "version_major": 2,
       "version_minor": 0
      },
      "text/plain": [
       "Applying CustomNodeFilter:   0%|          | 0/16 [00:00<?, ?it/s]"
      ]
     },
     "metadata": {},
     "output_type": "display_data"
    },
    {
     "data": {
      "application/vnd.jupyter.widget-view+json": {
       "model_id": "d281da91f95d4911bc2125bbae719be3",
       "version_major": 2,
       "version_minor": 0
      },
      "text/plain": [
       "Applying [EmbeddingExtractor, ThemesExtractor, NERExtractor]:   0%|          | 0/43 [00:00<?, ?it/s]"
      ]
     },
     "metadata": {},
     "output_type": "display_data"
    },
    {
     "name": "stderr",
     "output_type": "stream",
     "text": [
      "Property 'summary_embedding' already exists in node 'bc5355'. Skipping!\n",
      "Property 'summary_embedding' already exists in node 'b0f265'. Skipping!\n",
      "Property 'summary_embedding' already exists in node '59c3f4'. Skipping!\n"
     ]
    },
    {
     "data": {
      "application/vnd.jupyter.widget-view+json": {
       "model_id": "1cde7210c92449b6b39e1b87759eb918",
       "version_major": 2,
       "version_minor": 0
      },
      "text/plain": [
       "Applying [CosineSimilarityBuilder, OverlapScoreBuilder]:   0%|          | 0/2 [00:00<?, ?it/s]"
      ]
     },
     "metadata": {},
     "output_type": "display_data"
    },
    {
     "data": {
      "application/vnd.jupyter.widget-view+json": {
       "model_id": "c70a4662dd9d4f9198163e8e0193e916",
       "version_major": 2,
       "version_minor": 0
      },
      "text/plain": [
       "Generating Scenarios:   0%|          | 0/1 [00:00<?, ?it/s]"
      ]
     },
     "metadata": {},
     "output_type": "display_data"
    },
    {
     "data": {
      "application/vnd.jupyter.widget-view+json": {
       "model_id": "458fe9346cb74797a9eadaf6987749ee",
       "version_major": 2,
       "version_minor": 0
      },
      "text/plain": [
       "Generating Samples:   0%|          | 0/30 [00:00<?, ?it/s]"
      ]
     },
     "metadata": {},
     "output_type": "display_data"
    },
    {
     "data": {
      "application/vnd.jupyter.widget-view+json": {
       "model_id": "386a6be656774c0b89e7d3641f514be4",
       "version_major": 2,
       "version_minor": 0
      },
      "text/plain": [
       "Applying HeadlinesExtractor:   0%|          | 0/8 [00:00<?, ?it/s]"
      ]
     },
     "metadata": {},
     "output_type": "display_data"
    },
    {
     "data": {
      "application/vnd.jupyter.widget-view+json": {
       "model_id": "c0b7fd1ce3cf453b830d72ea1732840e",
       "version_major": 2,
       "version_minor": 0
      },
      "text/plain": [
       "Applying HeadlineSplitter:   0%|          | 0/12 [00:00<?, ?it/s]"
      ]
     },
     "metadata": {},
     "output_type": "display_data"
    },
    {
     "name": "stderr",
     "output_type": "stream",
     "text": [
      "unable to apply transformation: 'headlines' property not found in this node\n",
      "unable to apply transformation: 'headlines' property not found in this node\n",
      "unable to apply transformation: 'headlines' property not found in this node\n",
      "unable to apply transformation: 'headlines' property not found in this node\n"
     ]
    },
    {
     "data": {
      "application/vnd.jupyter.widget-view+json": {
       "model_id": "f1f96326db9247019eca8aa665823fa0",
       "version_major": 2,
       "version_minor": 0
      },
      "text/plain": [
       "Applying SummaryExtractor:   0%|          | 0/11 [00:00<?, ?it/s]"
      ]
     },
     "metadata": {},
     "output_type": "display_data"
    },
    {
     "name": "stderr",
     "output_type": "stream",
     "text": [
      "Property 'summary' already exists in node 'a047b3'. Skipping!\n",
      "Property 'summary' already exists in node '59f5dd'. Skipping!\n",
      "Property 'summary' already exists in node '09439b'. Skipping!\n"
     ]
    },
    {
     "data": {
      "application/vnd.jupyter.widget-view+json": {
       "model_id": "5329b6e383084a1990878b16a8d46c52",
       "version_major": 2,
       "version_minor": 0
      },
      "text/plain": [
       "Applying CustomNodeFilter:   0%|          | 0/16 [00:00<?, ?it/s]"
      ]
     },
     "metadata": {},
     "output_type": "display_data"
    },
    {
     "data": {
      "application/vnd.jupyter.widget-view+json": {
       "model_id": "871a373144b44d768be8eb5391f486eb",
       "version_major": 2,
       "version_minor": 0
      },
      "text/plain": [
       "Applying [EmbeddingExtractor, ThemesExtractor, NERExtractor]:   0%|          | 0/43 [00:00<?, ?it/s]"
      ]
     },
     "metadata": {},
     "output_type": "display_data"
    },
    {
     "name": "stderr",
     "output_type": "stream",
     "text": [
      "Property 'summary_embedding' already exists in node 'a047b3'. Skipping!\n",
      "Property 'summary_embedding' already exists in node '09439b'. Skipping!\n",
      "Property 'summary_embedding' already exists in node '59f5dd'. Skipping!\n"
     ]
    },
    {
     "data": {
      "application/vnd.jupyter.widget-view+json": {
       "model_id": "46f8d6163db84804b1f610960a973a52",
       "version_major": 2,
       "version_minor": 0
      },
      "text/plain": [
       "Applying [CosineSimilarityBuilder, OverlapScoreBuilder]:   0%|          | 0/2 [00:00<?, ?it/s]"
      ]
     },
     "metadata": {},
     "output_type": "display_data"
    },
    {
     "data": {
      "application/vnd.jupyter.widget-view+json": {
       "model_id": "a084b13381334387b91cce62b72a0667",
       "version_major": 2,
       "version_minor": 0
      },
      "text/plain": [
       "Generating Scenarios:   0%|          | 0/1 [00:00<?, ?it/s]"
      ]
     },
     "metadata": {},
     "output_type": "display_data"
    },
    {
     "data": {
      "application/vnd.jupyter.widget-view+json": {
       "model_id": "718e892e5bc440bf852c09a96e76523f",
       "version_major": 2,
       "version_minor": 0
      },
      "text/plain": [
       "Generating Samples:   0%|          | 0/30 [00:00<?, ?it/s]"
      ]
     },
     "metadata": {},
     "output_type": "display_data"
    },
    {
     "data": {
      "application/vnd.jupyter.widget-view+json": {
       "model_id": "7adb510232e9443cba2036e29da8ed0d",
       "version_major": 2,
       "version_minor": 0
      },
      "text/plain": [
       "Applying HeadlinesExtractor:   0%|          | 0/8 [00:00<?, ?it/s]"
      ]
     },
     "metadata": {},
     "output_type": "display_data"
    },
    {
     "data": {
      "application/vnd.jupyter.widget-view+json": {
       "model_id": "55f6d812df3441e8834fb0d20a370871",
       "version_major": 2,
       "version_minor": 0
      },
      "text/plain": [
       "Applying HeadlineSplitter:   0%|          | 0/12 [00:00<?, ?it/s]"
      ]
     },
     "metadata": {},
     "output_type": "display_data"
    },
    {
     "name": "stderr",
     "output_type": "stream",
     "text": [
      "unable to apply transformation: 'headlines' property not found in this node\n",
      "unable to apply transformation: 'headlines' property not found in this node\n",
      "unable to apply transformation: 'headlines' property not found in this node\n",
      "unable to apply transformation: 'headlines' property not found in this node\n"
     ]
    },
    {
     "data": {
      "application/vnd.jupyter.widget-view+json": {
       "model_id": "43b8d39ca5694c088766f5b604e1cda5",
       "version_major": 2,
       "version_minor": 0
      },
      "text/plain": [
       "Applying SummaryExtractor:   0%|          | 0/11 [00:00<?, ?it/s]"
      ]
     },
     "metadata": {},
     "output_type": "display_data"
    },
    {
     "name": "stderr",
     "output_type": "stream",
     "text": [
      "Property 'summary' already exists in node 'b15a3d'. Skipping!\n",
      "Property 'summary' already exists in node 'e031ab'. Skipping!\n",
      "Property 'summary' already exists in node '232844'. Skipping!\n"
     ]
    },
    {
     "data": {
      "application/vnd.jupyter.widget-view+json": {
       "model_id": "53123c792f1a4fae836388c0bf27e16f",
       "version_major": 2,
       "version_minor": 0
      },
      "text/plain": [
       "Applying CustomNodeFilter:   0%|          | 0/16 [00:00<?, ?it/s]"
      ]
     },
     "metadata": {},
     "output_type": "display_data"
    },
    {
     "data": {
      "application/vnd.jupyter.widget-view+json": {
       "model_id": "fe7d25202d76451bab7556deab78bc31",
       "version_major": 2,
       "version_minor": 0
      },
      "text/plain": [
       "Applying [EmbeddingExtractor, ThemesExtractor, NERExtractor]:   0%|          | 0/43 [00:00<?, ?it/s]"
      ]
     },
     "metadata": {},
     "output_type": "display_data"
    },
    {
     "name": "stderr",
     "output_type": "stream",
     "text": [
      "Property 'summary_embedding' already exists in node '232844'. Skipping!\n",
      "Property 'summary_embedding' already exists in node 'e031ab'. Skipping!\n",
      "Property 'summary_embedding' already exists in node 'b15a3d'. Skipping!\n"
     ]
    },
    {
     "data": {
      "application/vnd.jupyter.widget-view+json": {
       "model_id": "7af0e530a7f245418418d1065a0f1a2a",
       "version_major": 2,
       "version_minor": 0
      },
      "text/plain": [
       "Applying [CosineSimilarityBuilder, OverlapScoreBuilder]:   0%|          | 0/2 [00:00<?, ?it/s]"
      ]
     },
     "metadata": {},
     "output_type": "display_data"
    },
    {
     "data": {
      "application/vnd.jupyter.widget-view+json": {
       "model_id": "152d78a044b5489b9ffea4e4dc68d3cd",
       "version_major": 2,
       "version_minor": 0
      },
      "text/plain": [
       "Generating Scenarios:   0%|          | 0/1 [00:00<?, ?it/s]"
      ]
     },
     "metadata": {},
     "output_type": "display_data"
    },
    {
     "data": {
      "application/vnd.jupyter.widget-view+json": {
       "model_id": "86d251afc9444f268c930958da599fd0",
       "version_major": 2,
       "version_minor": 0
      },
      "text/plain": [
       "Generating Samples:   0%|          | 0/30 [00:00<?, ?it/s]"
      ]
     },
     "metadata": {},
     "output_type": "display_data"
    }
   ],
   "source": [
    "single_hop_testset = generator.generate_with_llamaindex_docs(\n",
    "    documents=documents,\n",
    "    testset_size=30,\n",
    "    query_distribution=[(SingleHopSpecificQuerySynthesizer(name=\"single_hop_specific\"), 1.0)]\n",
    ")\n",
    "multi_hop_specific_testset = generator.generate_with_llamaindex_docs(\n",
    "    documents=documents,\n",
    "    testset_size=30,\n",
    "    query_distribution=[(MultiHopSpecificQuerySynthesizer(name=\"multi_hop_specific\"), 1.0)]\n",
    ")\n",
    "multi_hop_abstract_testset = generator.generate_with_llamaindex_docs(\n",
    "    documents=documents,\n",
    "    testset_size=30,\n",
    "    query_distribution=[(MultiHopAbstractQuerySynthesizer(name=\"multi_hop_abstract\"), 1.0)]\n",
    ")\n"
   ]
  },
  {
   "cell_type": "code",
   "execution_count": 25,
   "metadata": {},
   "outputs": [
    {
     "data": {
      "text/plain": [
       "ragas.testset.synthesizers.testset_schema.Testset"
      ]
     },
     "execution_count": 25,
     "metadata": {},
     "output_type": "execute_result"
    }
   ],
   "source": [
    "type(single_hop_testset)"
   ]
  },
  {
   "cell_type": "code",
   "execution_count": 26,
   "metadata": {},
   "outputs": [
    {
     "data": {
      "application/vnd.jupyter.widget-view+json": {
       "model_id": "7e8eeebb145c4b5480c913f31fbc9f89",
       "version_major": 2,
       "version_minor": 0
      },
      "text/plain": [
       "Running Query Engine:   0%|          | 0/30 [00:00<?, ?it/s]"
      ]
     },
     "metadata": {},
     "output_type": "display_data"
    },
    {
     "data": {
      "application/vnd.jupyter.widget-view+json": {
       "model_id": "7cb2e6313b4d4b07b685a1383a1a6dfe",
       "version_major": 2,
       "version_minor": 0
      },
      "text/plain": [
       "Evaluating:   0%|          | 0/150 [00:00<?, ?it/s]"
      ]
     },
     "metadata": {},
     "output_type": "display_data"
    },
    {
     "name": "stdout",
     "output_type": "stream",
     "text": [
      "{'faithfulness': 0.8113, 'answer_relevancy': 0.9375, 'context_precision': 0.8167, 'context_recall': 0.7389, 'answer_correctness': 0.4814}\n"
     ]
    }
   ],
   "source": [
    "result = evaluate(\n",
    "    query_engine=query_engine,\n",
    "    metrics=metrics,\n",
    "    dataset=single_hop_testset.to_evaluation_dataset(),\n",
    ")\n",
    "pprint(result, indent=4)"
   ]
  },
  {
   "cell_type": "code",
   "execution_count": 27,
   "metadata": {},
   "outputs": [
    {
     "data": {
      "application/vnd.jupyter.widget-view+json": {
       "model_id": "b0f2fdad93ae4af0bbf26e0add448857",
       "version_major": 2,
       "version_minor": 0
      },
      "text/plain": [
       "Running Query Engine:   0%|          | 0/30 [00:00<?, ?it/s]"
      ]
     },
     "metadata": {},
     "output_type": "display_data"
    },
    {
     "data": {
      "application/vnd.jupyter.widget-view+json": {
       "model_id": "32297eda2716488c95b3ebfcabfddc7f",
       "version_major": 2,
       "version_minor": 0
      },
      "text/plain": [
       "Evaluating:   0%|          | 0/150 [00:00<?, ?it/s]"
      ]
     },
     "metadata": {},
     "output_type": "display_data"
    },
    {
     "name": "stdout",
     "output_type": "stream",
     "text": [
      "{'faithfulness': 0.8234, 'answer_relevancy': 0.9598, 'context_precision': 0.8500, 'context_recall': 0.7911, 'answer_correctness': 0.5685}\n"
     ]
    }
   ],
   "source": [
    "result = evaluate(\n",
    "    query_engine=query_engine,\n",
    "    metrics=metrics,\n",
    "    dataset=multi_hop_specific_testset.to_evaluation_dataset(),\n",
    ")\n",
    "pprint(result, indent=4)"
   ]
  },
  {
   "cell_type": "code",
   "execution_count": 28,
   "metadata": {},
   "outputs": [
    {
     "data": {
      "application/vnd.jupyter.widget-view+json": {
       "model_id": "fa81da23859f48e28401a67076aeb672",
       "version_major": 2,
       "version_minor": 0
      },
      "text/plain": [
       "Running Query Engine:   0%|          | 0/30 [00:00<?, ?it/s]"
      ]
     },
     "metadata": {},
     "output_type": "display_data"
    },
    {
     "data": {
      "application/vnd.jupyter.widget-view+json": {
       "model_id": "32b836a7436f449f8aa50a6b435352de",
       "version_major": 2,
       "version_minor": 0
      },
      "text/plain": [
       "Evaluating:   0%|          | 0/150 [00:00<?, ?it/s]"
      ]
     },
     "metadata": {},
     "output_type": "display_data"
    },
    {
     "name": "stdout",
     "output_type": "stream",
     "text": [
      "{'faithfulness': 0.7602, 'answer_relevancy': 0.9717, 'context_precision': 0.9833, 'context_recall': 0.8500, 'answer_correctness': 0.5806}\n"
     ]
    }
   ],
   "source": [
    "result = evaluate(\n",
    "    query_engine=query_engine,\n",
    "    metrics=metrics,\n",
    "    dataset=multi_hop_abstract_testset.to_evaluation_dataset(),\n",
    ")\n",
    "pprint(result, indent=4)"
   ]
  }
 ],
 "metadata": {
  "kernelspec": {
   "display_name": ".venv (3.12.3)",
   "language": "python",
   "name": "python3"
  },
  "language_info": {
   "codemirror_mode": {
    "name": "ipython",
    "version": 3
   },
   "file_extension": ".py",
   "mimetype": "text/x-python",
   "name": "python",
   "nbconvert_exporter": "python",
   "pygments_lexer": "ipython3",
   "version": "3.12.3"
  }
 },
 "nbformat": 4,
 "nbformat_minor": 2
}
