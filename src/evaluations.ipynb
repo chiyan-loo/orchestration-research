{
 "cells": [
  {
   "cell_type": "markdown",
   "metadata": {},
   "source": [
    "## Loading Datasets\n"
   ]
  },
  {
   "cell_type": "code",
   "execution_count": 1,
   "metadata": {},
   "outputs": [],
   "source": [
    "from datasets import load_dataset\n",
    "\n",
    "hf_dataset = load_dataset(\n",
    "    \"google-research-datasets/nq_open\", \n",
    "    split=\"validation\",\n",
    "    cache_dir=\"/mnt/d/datasets/nq_open\"\n",
    ")\n",
    "\n",
    "hf_dataset = hf_dataset.select(range(10))"
   ]
  },
  {
   "cell_type": "code",
   "execution_count": 2,
   "metadata": {},
   "outputs": [
    {
     "data": {
      "text/plain": [
       "Dataset({\n",
       "    features: ['question', 'answer'],\n",
       "    num_rows: 10\n",
       "})"
      ]
     },
     "execution_count": 2,
     "metadata": {},
     "output_type": "execute_result"
    }
   ],
   "source": [
    "hf_dataset"
   ]
  },
  {
   "cell_type": "code",
   "execution_count": 3,
   "metadata": {},
   "outputs": [],
   "source": [
    "sample_docs = [\n",
    "    \"Albert Einstein proposed the theory of relativity, which transformed our understanding of time, space, and gravity.\",\n",
    "    \"Marie Curie was a physicist and chemist who conducted pioneering research on radioactivity and won two Nobel Prizes.\",\n",
    "    \"Isaac Newton formulated the laws of motion and universal gravitation, laying the foundation for classical mechanics.\",\n",
    "    \"Charles Darwin introduced the theory of evolution by natural selection in his book 'On the Origin of Species'.\",\n",
    "    \"Ada Lovelace is regarded as the first computer programmer for her work on Charles Babbage's early mechanical computer, the Analytical Engine.\"\n",
    "]"
   ]
  },
  {
   "cell_type": "markdown",
   "metadata": {},
   "source": [
    "## Evaluating the `QueryEngine`\n"
   ]
  },
  {
   "cell_type": "markdown",
   "metadata": {},
   "source": [
    "### Preparing dataset"
   ]
  },
  {
   "cell_type": "code",
   "execution_count": 4,
   "metadata": {},
   "outputs": [
    {
     "name": "stderr",
     "output_type": "stream",
     "text": [
      "/home/mounty-ed/stuff/RAG_research/.venv/lib/python3.12/site-packages/torch/cuda/__init__.py:283: UserWarning: \n",
      "    Found GPU0 NVIDIA GeForce GTX 1070 Ti which is of cuda capability 6.1.\n",
      "    Minimum and Maximum cuda capability supported by this version of PyTorch is\n",
      "    (7.0) - (12.0)\n",
      "    \n",
      "  warnings.warn(\n",
      "/home/mounty-ed/stuff/RAG_research/.venv/lib/python3.12/site-packages/torch/cuda/__init__.py:304: UserWarning: \n",
      "    Please install PyTorch with a following CUDA\n",
      "    configurations:  12.6 following instructions at\n",
      "    https://pytorch.org/get-started/locally/\n",
      "    \n",
      "  warnings.warn(matched_cuda_warn.format(matched_arches))\n",
      "/home/mounty-ed/stuff/RAG_research/.venv/lib/python3.12/site-packages/torch/cuda/__init__.py:326: UserWarning: \n",
      "NVIDIA GeForce GTX 1070 Ti with CUDA capability sm_61 is not compatible with the current PyTorch installation.\n",
      "The current PyTorch install supports CUDA capabilities sm_70 sm_75 sm_80 sm_86 sm_90 sm_100 sm_120.\n",
      "If you want to use the NVIDIA GeForce GTX 1070 Ti GPU with PyTorch, please check the instructions at https://pytorch.org/get-started/locally/\n",
      "\n",
      "  warnings.warn(\n"
     ]
    }
   ],
   "source": [
    "from langchain_ollama import ChatOllama\n",
    "from langchain_huggingface import HuggingFaceEmbeddings\n",
    "\n",
    "evaluator_llm = ChatOllama(\n",
    "    model=\"mistral:7b\",\n",
    "    temperature=0.1,\n",
    ")\n",
    "\n",
    "embeddings = HuggingFaceEmbeddings(\n",
    "    model_name=\"sentence-transformers/all-MiniLM-L6-v2\"\n",
    ")"
   ]
  },
  {
   "cell_type": "code",
   "execution_count": null,
   "metadata": {},
   "outputs": [
    {
     "name": "stdout",
     "output_type": "stream",
     "text": [
      "1 iteration\n"
     ]
    },
    {
     "ename": "ValueError",
     "evalue": "Documents and their embeddings are not loaded.",
     "output_type": "error",
     "traceback": [
      "\u001b[31m---------------------------------------------------------------------------\u001b[39m",
      "\u001b[31mValueError\u001b[39m                                Traceback (most recent call last)",
      "\u001b[36mCell\u001b[39m\u001b[36m \u001b[39m\u001b[32mIn[8]\u001b[39m\u001b[32m, line 11\u001b[39m\n\u001b[32m      8\u001b[39m question = item[\u001b[33m\"\u001b[39m\u001b[33mquestion\u001b[39m\u001b[33m\"\u001b[39m]\n\u001b[32m      9\u001b[39m answer = item[\u001b[33m\"\u001b[39m\u001b[33manswer\u001b[39m\u001b[33m\"\u001b[39m]\n\u001b[32m---> \u001b[39m\u001b[32m11\u001b[39m relevant_docs = \u001b[43mrag\u001b[49m\u001b[43m.\u001b[49m\u001b[43mget_most_relevant_docs\u001b[49m\u001b[43m(\u001b[49m\u001b[43mquestion\u001b[49m\u001b[43m)\u001b[49m\n\u001b[32m     12\u001b[39m response = rag.generate_answer(question, relevant_docs)\n\u001b[32m     13\u001b[39m ragas_dataset.append(\n\u001b[32m     14\u001b[39m     {\n\u001b[32m     15\u001b[39m         \u001b[33m\"\u001b[39m\u001b[33muser_input\u001b[39m\u001b[33m\"\u001b[39m:question,\n\u001b[32m   (...)\u001b[39m\u001b[32m     19\u001b[39m     }\n\u001b[32m     20\u001b[39m )\n",
      "\u001b[36mFile \u001b[39m\u001b[32m~/stuff/RAG_research/simple_rag.py:29\u001b[39m, in \u001b[36mRAG.get_most_relevant_docs\u001b[39m\u001b[34m(self, query)\u001b[39m\n\u001b[32m     27\u001b[39m \u001b[38;5;250m\u001b[39m\u001b[33;03m\"\"\"Find the most relevant document for a given query.\"\"\"\u001b[39;00m\n\u001b[32m     28\u001b[39m \u001b[38;5;28;01mif\u001b[39;00m \u001b[38;5;129;01mnot\u001b[39;00m \u001b[38;5;28mself\u001b[39m.docs \u001b[38;5;129;01mor\u001b[39;00m \u001b[38;5;129;01mnot\u001b[39;00m \u001b[38;5;28mself\u001b[39m.doc_embeddings:\n\u001b[32m---> \u001b[39m\u001b[32m29\u001b[39m     \u001b[38;5;28;01mraise\u001b[39;00m \u001b[38;5;167;01mValueError\u001b[39;00m(\u001b[33m\"\u001b[39m\u001b[33mDocuments and their embeddings are not loaded.\u001b[39m\u001b[33m\"\u001b[39m)\n\u001b[32m     31\u001b[39m query_embedding = \u001b[38;5;28mself\u001b[39m.embeddings.embed_query(query)\n\u001b[32m     32\u001b[39m similarities = [\n\u001b[32m     33\u001b[39m     np.dot(query_embedding, doc_emb)\n\u001b[32m     34\u001b[39m     / (np.linalg.norm(query_embedding) * np.linalg.norm(doc_emb))\n\u001b[32m     35\u001b[39m     \u001b[38;5;28;01mfor\u001b[39;00m doc_emb \u001b[38;5;129;01min\u001b[39;00m \u001b[38;5;28mself\u001b[39m.doc_embeddings\n\u001b[32m     36\u001b[39m ]\n",
      "\u001b[31mValueError\u001b[39m: Documents and their embeddings are not loaded."
     ]
    }
   ],
   "source": [
    "from src.simple_rag import RAG\n",
    "\n",
    "\n",
    "\n",
    "rag = RAG()\n",
    "ragas_dataset = []\n",
    "\n",
    "for i, item in enumerate(hf_dataset):\n",
    "    print(f\"{i+1} iteration\")\n",
    "    question = item[\"question\"]\n",
    "    answer = item[\"answer\"]\n",
    "\n",
    "    relevant_docs = rag.get_most_relevant_docs(question)\n",
    "    response = rag.generate_answer(question, relevant_docs)\n",
    "    ragas_dataset.append(\n",
    "        {\n",
    "            \"user_input\":question,\n",
    "            \"retrieved_contexts\":relevant_docs,\n",
    "            \"response\":response,\n",
    "            \"reference\":answer\n",
    "        }\n",
    "    )"
   ]
  },
  {
   "cell_type": "markdown",
   "metadata": {},
   "source": [
    "### Evaluating dataset"
   ]
  },
  {
   "cell_type": "code",
   "execution_count": null,
   "metadata": {},
   "outputs": [],
   "source": [
    "# import metrics\n",
    "from ragas.metrics import (\n",
    "    ContextPrecision,\n",
    "    ContextRecall,\n",
    "    Faithfulness,\n",
    "    AnswerRelevancy,\n",
    "    AnswerCorrectness\n",
    ")\n",
    "\n",
    "# init metrics with evaluator LLM\n",
    "from ragas.llms import LangchainLLMWrapper\n",
    "\n",
    "evaluator_llm = LangchainLLMWrapper(evaluator_llm)\n",
    "metrics = [\n",
    "    Faithfulness(llm=evaluator_llm),\n",
    "    AnswerRelevancy(llm=evaluator_llm),\n",
    "    ContextPrecision(llm=evaluator_llm),\n",
    "    ContextRecall(llm=evaluator_llm),\n",
    "    AnswerCorrectness(llm=evaluator_llm)\n",
    "]"
   ]
  },
  {
   "cell_type": "code",
   "execution_count": null,
   "metadata": {},
   "outputs": [
    {
     "data": {
      "text/plain": [
       "EvaluationDataset(features=['user_input', 'reference_contexts', 'reference'], len=6)"
      ]
     },
     "execution_count": 12,
     "metadata": {},
     "output_type": "execute_result"
    }
   ],
   "source": [
    "ragas_dataset"
   ]
  },
  {
   "cell_type": "code",
   "execution_count": null,
   "metadata": {},
   "outputs": [
    {
     "data": {
      "application/vnd.jupyter.widget-view+json": {
       "model_id": "64557c0ec02f4c239e14582c0e4eb055",
       "version_major": 2,
       "version_minor": 0
      },
      "text/plain": [
       "Running Query Engine:   0%|          | 0/6 [00:00<?, ?it/s]"
      ]
     },
     "metadata": {},
     "output_type": "display_data"
    },
    {
     "data": {
      "application/vnd.jupyter.widget-view+json": {
       "model_id": "aa06449c07ab43df92932c3cf512467b",
       "version_major": 2,
       "version_minor": 0
      },
      "text/plain": [
       "Evaluating:   0%|          | 0/30 [00:00<?, ?it/s]"
      ]
     },
     "metadata": {},
     "output_type": "display_data"
    }
   ],
   "source": [
    "from ragas.integrations.llama_index import evaluate\n",
    "\n",
    "result = evaluate(\n",
    "    metrics=metrics,\n",
    "    dataset=ragas_dataset,\n",
    ")"
   ]
  },
  {
   "cell_type": "code",
   "execution_count": null,
   "metadata": {},
   "outputs": [
    {
     "name": "stdout",
     "output_type": "stream",
     "text": [
      "{'faithfulness': 0.8778, 'answer_relevancy': 0.9574, 'context_precision': 1.0000, 'context_recall': 1.0000, 'answer_correctness': 0.5576}\n"
     ]
    }
   ],
   "source": [
    "from pprint import pprint\n",
    "pprint(result, indent=4)"
   ]
  },
  {
   "cell_type": "code",
   "execution_count": null,
   "metadata": {},
   "outputs": [
    {
     "data": {
      "text/html": [
       "<div>\n",
       "<style scoped>\n",
       "    .dataframe tbody tr th:only-of-type {\n",
       "        vertical-align: middle;\n",
       "    }\n",
       "\n",
       "    .dataframe tbody tr th {\n",
       "        vertical-align: top;\n",
       "    }\n",
       "\n",
       "    .dataframe thead th {\n",
       "        text-align: right;\n",
       "    }\n",
       "</style>\n",
       "<table border=\"1\" class=\"dataframe\">\n",
       "  <thead>\n",
       "    <tr style=\"text-align: right;\">\n",
       "      <th></th>\n",
       "      <th>user_input</th>\n",
       "      <th>retrieved_contexts</th>\n",
       "      <th>reference_contexts</th>\n",
       "      <th>response</th>\n",
       "      <th>reference</th>\n",
       "      <th>faithfulness</th>\n",
       "      <th>answer_relevancy</th>\n",
       "      <th>context_precision</th>\n",
       "      <th>context_recall</th>\n",
       "      <th>answer_correctness</th>\n",
       "    </tr>\n",
       "  </thead>\n",
       "  <tbody>\n",
       "    <tr>\n",
       "      <th>0</th>\n",
       "      <td>What GitLab say about being ally and how it re...</td>\n",
       "      <td>[---\\ntitle: \"The Ally Lab\"\\ndescription: Lear...</td>\n",
       "      <td>[--- title: \"The Ally Lab\" description: Learn ...</td>\n",
       "      <td>Being an ally at GitLab involves taking proact...</td>\n",
       "      <td>At GitLab, it is required to be inclusive, but...</td>\n",
       "      <td>1.000000</td>\n",
       "      <td>0.917890</td>\n",
       "      <td>1.0</td>\n",
       "      <td>1.0</td>\n",
       "      <td>0.560615</td>\n",
       "    </tr>\n",
       "    <tr>\n",
       "      <th>1</th>\n",
       "      <td>How can Zoom be utilized to promote allyship i...</td>\n",
       "      <td>[Teach people how to disagree, set the expecta...</td>\n",
       "      <td>[Skills and Behaviors of allies To be an effec...</td>\n",
       "      <td>Zoom can be utilized to promote allyship in di...</td>\n",
       "      <td>Zoom can be utilized to promote allyship by pr...</td>\n",
       "      <td>1.000000</td>\n",
       "      <td>1.000000</td>\n",
       "      <td>1.0</td>\n",
       "      <td>1.0</td>\n",
       "      <td>0.527588</td>\n",
       "    </tr>\n",
       "    <tr>\n",
       "      <th>2</th>\n",
       "      <td>How can company engagement surveys be utilized...</td>\n",
       "      <td>[---\\ntitle: \"Building an Inclusive Remote Cul...</td>\n",
       "      <td>[&lt;1-hop&gt;\\n\\n--- title: \"Building an Inclusive ...</td>\n",
       "      <td>Company engagement surveys can be utilized to ...</td>\n",
       "      <td>Company engagement surveys can be utilized to ...</td>\n",
       "      <td>0.933333</td>\n",
       "      <td>0.952433</td>\n",
       "      <td>1.0</td>\n",
       "      <td>1.0</td>\n",
       "      <td>0.540580</td>\n",
       "    </tr>\n",
       "    <tr>\n",
       "      <th>3</th>\n",
       "      <td>What are the goals of the Privilege for Sale a...</td>\n",
       "      <td>[A DIB Team Member will set up a time to discu...</td>\n",
       "      <td>[&lt;1-hop&gt;\\n\\n--- title: \"Roundtables\" descripti...</td>\n",
       "      <td>The goals of the Privilege for Sale activity i...</td>\n",
       "      <td>The goals of the Privilege for Sale activity i...</td>\n",
       "      <td>1.000000</td>\n",
       "      <td>0.982884</td>\n",
       "      <td>1.0</td>\n",
       "      <td>1.0</td>\n",
       "      <td>0.748442</td>\n",
       "    </tr>\n",
       "    <tr>\n",
       "      <th>4</th>\n",
       "      <td>What role does Marina Brownrigg play in the DI...</td>\n",
       "      <td>[---\\ntitle: Diversity Inclusion &amp; Belonging C...</td>\n",
       "      <td>[&lt;1-hop&gt;\\n\\nDIB Monthly Initiatives Call We ho...</td>\n",
       "      <td>Marina Brownrigg serves as the DRI (Directly R...</td>\n",
       "      <td>Marina Brownrigg serves as the Directly Respon...</td>\n",
       "      <td>0.333333</td>\n",
       "      <td>0.891996</td>\n",
       "      <td>1.0</td>\n",
       "      <td>1.0</td>\n",
       "      <td>0.510638</td>\n",
       "    </tr>\n",
       "    <tr>\n",
       "      <th>5</th>\n",
       "      <td>What are some essential skills and strategies ...</td>\n",
       "      <td>[--- One of the mistakes that often happens he...</td>\n",
       "      <td>[&lt;1-hop&gt;\\n\\nWhat it means to be an ally - Take...</td>\n",
       "      <td>Some essential skills and strategies for being...</td>\n",
       "      <td>To be an effective ally, it is essential to id...</td>\n",
       "      <td>1.000000</td>\n",
       "      <td>0.998924</td>\n",
       "      <td>1.0</td>\n",
       "      <td>1.0</td>\n",
       "      <td>0.457451</td>\n",
       "    </tr>\n",
       "  </tbody>\n",
       "</table>\n",
       "</div>"
      ],
      "text/plain": [
       "                                          user_input  \\\n",
       "0  What GitLab say about being ally and how it re...   \n",
       "1  How can Zoom be utilized to promote allyship i...   \n",
       "2  How can company engagement surveys be utilized...   \n",
       "3  What are the goals of the Privilege for Sale a...   \n",
       "4  What role does Marina Brownrigg play in the DI...   \n",
       "5  What are some essential skills and strategies ...   \n",
       "\n",
       "                                  retrieved_contexts  \\\n",
       "0  [---\\ntitle: \"The Ally Lab\"\\ndescription: Lear...   \n",
       "1  [Teach people how to disagree, set the expecta...   \n",
       "2  [---\\ntitle: \"Building an Inclusive Remote Cul...   \n",
       "3  [A DIB Team Member will set up a time to discu...   \n",
       "4  [---\\ntitle: Diversity Inclusion & Belonging C...   \n",
       "5  [--- One of the mistakes that often happens he...   \n",
       "\n",
       "                                  reference_contexts  \\\n",
       "0  [--- title: \"The Ally Lab\" description: Learn ...   \n",
       "1  [Skills and Behaviors of allies To be an effec...   \n",
       "2  [<1-hop>\\n\\n--- title: \"Building an Inclusive ...   \n",
       "3  [<1-hop>\\n\\n--- title: \"Roundtables\" descripti...   \n",
       "4  [<1-hop>\\n\\nDIB Monthly Initiatives Call We ho...   \n",
       "5  [<1-hop>\\n\\nWhat it means to be an ally - Take...   \n",
       "\n",
       "                                            response  \\\n",
       "0  Being an ally at GitLab involves taking proact...   \n",
       "1  Zoom can be utilized to promote allyship in di...   \n",
       "2  Company engagement surveys can be utilized to ...   \n",
       "3  The goals of the Privilege for Sale activity i...   \n",
       "4  Marina Brownrigg serves as the DRI (Directly R...   \n",
       "5  Some essential skills and strategies for being...   \n",
       "\n",
       "                                           reference  faithfulness  \\\n",
       "0  At GitLab, it is required to be inclusive, but...      1.000000   \n",
       "1  Zoom can be utilized to promote allyship by pr...      1.000000   \n",
       "2  Company engagement surveys can be utilized to ...      0.933333   \n",
       "3  The goals of the Privilege for Sale activity i...      1.000000   \n",
       "4  Marina Brownrigg serves as the Directly Respon...      0.333333   \n",
       "5  To be an effective ally, it is essential to id...      1.000000   \n",
       "\n",
       "   answer_relevancy  context_precision  context_recall  answer_correctness  \n",
       "0          0.917890                1.0             1.0            0.560615  \n",
       "1          1.000000                1.0             1.0            0.527588  \n",
       "2          0.952433                1.0             1.0            0.540580  \n",
       "3          0.982884                1.0             1.0            0.748442  \n",
       "4          0.891996                1.0             1.0            0.510638  \n",
       "5          0.998924                1.0             1.0            0.457451  "
      ]
     },
     "execution_count": 17,
     "metadata": {},
     "output_type": "execute_result"
    }
   ],
   "source": [
    "result.to_pandas()"
   ]
  },
  {
   "cell_type": "markdown",
   "metadata": {},
   "source": [
    "## Questions: SingleHop vs MultiHop\n"
   ]
  },
  {
   "cell_type": "code",
   "execution_count": null,
   "metadata": {},
   "outputs": [],
   "source": [
    "from ragas.testset.synthesizers.single_hop.specific import SingleHopSpecificQuerySynthesizer\n",
    "from ragas.testset.synthesizers.multi_hop.specific import MultiHopSpecificQuerySynthesizer\n",
    "from ragas.testset.synthesizers.multi_hop.abstract import MultiHopAbstractQuerySynthesizer"
   ]
  },
  {
   "cell_type": "code",
   "execution_count": null,
   "metadata": {},
   "outputs": [
    {
     "data": {
      "application/vnd.jupyter.widget-view+json": {
       "model_id": "0125ff21ed8348098e3d8a0c36f2fbc9",
       "version_major": 2,
       "version_minor": 0
      },
      "text/plain": [
       "Applying HeadlinesExtractor:   0%|          | 0/8 [00:00<?, ?it/s]"
      ]
     },
     "metadata": {},
     "output_type": "display_data"
    },
    {
     "data": {
      "application/vnd.jupyter.widget-view+json": {
       "model_id": "aede33ff40174cc68f8834f4ae2a0a1d",
       "version_major": 2,
       "version_minor": 0
      },
      "text/plain": [
       "Applying HeadlineSplitter:   0%|          | 0/12 [00:00<?, ?it/s]"
      ]
     },
     "metadata": {},
     "output_type": "display_data"
    },
    {
     "name": "stderr",
     "output_type": "stream",
     "text": [
      "unable to apply transformation: 'headlines' property not found in this node\n",
      "unable to apply transformation: 'headlines' property not found in this node\n",
      "unable to apply transformation: 'headlines' property not found in this node\n",
      "unable to apply transformation: 'headlines' property not found in this node\n"
     ]
    },
    {
     "data": {
      "application/vnd.jupyter.widget-view+json": {
       "model_id": "6bd1265b5d0444fda1f16ffb2ec2bb95",
       "version_major": 2,
       "version_minor": 0
      },
      "text/plain": [
       "Applying SummaryExtractor:   0%|          | 0/11 [00:00<?, ?it/s]"
      ]
     },
     "metadata": {},
     "output_type": "display_data"
    },
    {
     "name": "stderr",
     "output_type": "stream",
     "text": [
      "Property 'summary' already exists in node '59c3f4'. Skipping!\n",
      "Property 'summary' already exists in node 'bc5355'. Skipping!\n",
      "Property 'summary' already exists in node 'b0f265'. Skipping!\n"
     ]
    },
    {
     "data": {
      "application/vnd.jupyter.widget-view+json": {
       "model_id": "dbd53589ea474713b5ddb5088baf4b59",
       "version_major": 2,
       "version_minor": 0
      },
      "text/plain": [
       "Applying CustomNodeFilter:   0%|          | 0/16 [00:00<?, ?it/s]"
      ]
     },
     "metadata": {},
     "output_type": "display_data"
    },
    {
     "data": {
      "application/vnd.jupyter.widget-view+json": {
       "model_id": "d281da91f95d4911bc2125bbae719be3",
       "version_major": 2,
       "version_minor": 0
      },
      "text/plain": [
       "Applying [EmbeddingExtractor, ThemesExtractor, NERExtractor]:   0%|          | 0/43 [00:00<?, ?it/s]"
      ]
     },
     "metadata": {},
     "output_type": "display_data"
    },
    {
     "name": "stderr",
     "output_type": "stream",
     "text": [
      "Property 'summary_embedding' already exists in node 'bc5355'. Skipping!\n",
      "Property 'summary_embedding' already exists in node 'b0f265'. Skipping!\n",
      "Property 'summary_embedding' already exists in node '59c3f4'. Skipping!\n"
     ]
    },
    {
     "data": {
      "application/vnd.jupyter.widget-view+json": {
       "model_id": "1cde7210c92449b6b39e1b87759eb918",
       "version_major": 2,
       "version_minor": 0
      },
      "text/plain": [
       "Applying [CosineSimilarityBuilder, OverlapScoreBuilder]:   0%|          | 0/2 [00:00<?, ?it/s]"
      ]
     },
     "metadata": {},
     "output_type": "display_data"
    },
    {
     "data": {
      "application/vnd.jupyter.widget-view+json": {
       "model_id": "c70a4662dd9d4f9198163e8e0193e916",
       "version_major": 2,
       "version_minor": 0
      },
      "text/plain": [
       "Generating Scenarios:   0%|          | 0/1 [00:00<?, ?it/s]"
      ]
     },
     "metadata": {},
     "output_type": "display_data"
    },
    {
     "data": {
      "application/vnd.jupyter.widget-view+json": {
       "model_id": "458fe9346cb74797a9eadaf6987749ee",
       "version_major": 2,
       "version_minor": 0
      },
      "text/plain": [
       "Generating Samples:   0%|          | 0/30 [00:00<?, ?it/s]"
      ]
     },
     "metadata": {},
     "output_type": "display_data"
    },
    {
     "data": {
      "application/vnd.jupyter.widget-view+json": {
       "model_id": "386a6be656774c0b89e7d3641f514be4",
       "version_major": 2,
       "version_minor": 0
      },
      "text/plain": [
       "Applying HeadlinesExtractor:   0%|          | 0/8 [00:00<?, ?it/s]"
      ]
     },
     "metadata": {},
     "output_type": "display_data"
    },
    {
     "data": {
      "application/vnd.jupyter.widget-view+json": {
       "model_id": "c0b7fd1ce3cf453b830d72ea1732840e",
       "version_major": 2,
       "version_minor": 0
      },
      "text/plain": [
       "Applying HeadlineSplitter:   0%|          | 0/12 [00:00<?, ?it/s]"
      ]
     },
     "metadata": {},
     "output_type": "display_data"
    },
    {
     "name": "stderr",
     "output_type": "stream",
     "text": [
      "unable to apply transformation: 'headlines' property not found in this node\n",
      "unable to apply transformation: 'headlines' property not found in this node\n",
      "unable to apply transformation: 'headlines' property not found in this node\n",
      "unable to apply transformation: 'headlines' property not found in this node\n"
     ]
    },
    {
     "data": {
      "application/vnd.jupyter.widget-view+json": {
       "model_id": "f1f96326db9247019eca8aa665823fa0",
       "version_major": 2,
       "version_minor": 0
      },
      "text/plain": [
       "Applying SummaryExtractor:   0%|          | 0/11 [00:00<?, ?it/s]"
      ]
     },
     "metadata": {},
     "output_type": "display_data"
    },
    {
     "name": "stderr",
     "output_type": "stream",
     "text": [
      "Property 'summary' already exists in node 'a047b3'. Skipping!\n",
      "Property 'summary' already exists in node '59f5dd'. Skipping!\n",
      "Property 'summary' already exists in node '09439b'. Skipping!\n"
     ]
    },
    {
     "data": {
      "application/vnd.jupyter.widget-view+json": {
       "model_id": "5329b6e383084a1990878b16a8d46c52",
       "version_major": 2,
       "version_minor": 0
      },
      "text/plain": [
       "Applying CustomNodeFilter:   0%|          | 0/16 [00:00<?, ?it/s]"
      ]
     },
     "metadata": {},
     "output_type": "display_data"
    },
    {
     "data": {
      "application/vnd.jupyter.widget-view+json": {
       "model_id": "871a373144b44d768be8eb5391f486eb",
       "version_major": 2,
       "version_minor": 0
      },
      "text/plain": [
       "Applying [EmbeddingExtractor, ThemesExtractor, NERExtractor]:   0%|          | 0/43 [00:00<?, ?it/s]"
      ]
     },
     "metadata": {},
     "output_type": "display_data"
    },
    {
     "name": "stderr",
     "output_type": "stream",
     "text": [
      "Property 'summary_embedding' already exists in node 'a047b3'. Skipping!\n",
      "Property 'summary_embedding' already exists in node '09439b'. Skipping!\n",
      "Property 'summary_embedding' already exists in node '59f5dd'. Skipping!\n"
     ]
    },
    {
     "data": {
      "application/vnd.jupyter.widget-view+json": {
       "model_id": "46f8d6163db84804b1f610960a973a52",
       "version_major": 2,
       "version_minor": 0
      },
      "text/plain": [
       "Applying [CosineSimilarityBuilder, OverlapScoreBuilder]:   0%|          | 0/2 [00:00<?, ?it/s]"
      ]
     },
     "metadata": {},
     "output_type": "display_data"
    },
    {
     "data": {
      "application/vnd.jupyter.widget-view+json": {
       "model_id": "a084b13381334387b91cce62b72a0667",
       "version_major": 2,
       "version_minor": 0
      },
      "text/plain": [
       "Generating Scenarios:   0%|          | 0/1 [00:00<?, ?it/s]"
      ]
     },
     "metadata": {},
     "output_type": "display_data"
    },
    {
     "data": {
      "application/vnd.jupyter.widget-view+json": {
       "model_id": "718e892e5bc440bf852c09a96e76523f",
       "version_major": 2,
       "version_minor": 0
      },
      "text/plain": [
       "Generating Samples:   0%|          | 0/30 [00:00<?, ?it/s]"
      ]
     },
     "metadata": {},
     "output_type": "display_data"
    },
    {
     "data": {
      "application/vnd.jupyter.widget-view+json": {
       "model_id": "7adb510232e9443cba2036e29da8ed0d",
       "version_major": 2,
       "version_minor": 0
      },
      "text/plain": [
       "Applying HeadlinesExtractor:   0%|          | 0/8 [00:00<?, ?it/s]"
      ]
     },
     "metadata": {},
     "output_type": "display_data"
    },
    {
     "data": {
      "application/vnd.jupyter.widget-view+json": {
       "model_id": "55f6d812df3441e8834fb0d20a370871",
       "version_major": 2,
       "version_minor": 0
      },
      "text/plain": [
       "Applying HeadlineSplitter:   0%|          | 0/12 [00:00<?, ?it/s]"
      ]
     },
     "metadata": {},
     "output_type": "display_data"
    },
    {
     "name": "stderr",
     "output_type": "stream",
     "text": [
      "unable to apply transformation: 'headlines' property not found in this node\n",
      "unable to apply transformation: 'headlines' property not found in this node\n",
      "unable to apply transformation: 'headlines' property not found in this node\n",
      "unable to apply transformation: 'headlines' property not found in this node\n"
     ]
    },
    {
     "data": {
      "application/vnd.jupyter.widget-view+json": {
       "model_id": "43b8d39ca5694c088766f5b604e1cda5",
       "version_major": 2,
       "version_minor": 0
      },
      "text/plain": [
       "Applying SummaryExtractor:   0%|          | 0/11 [00:00<?, ?it/s]"
      ]
     },
     "metadata": {},
     "output_type": "display_data"
    },
    {
     "name": "stderr",
     "output_type": "stream",
     "text": [
      "Property 'summary' already exists in node 'b15a3d'. Skipping!\n",
      "Property 'summary' already exists in node 'e031ab'. Skipping!\n",
      "Property 'summary' already exists in node '232844'. Skipping!\n"
     ]
    },
    {
     "data": {
      "application/vnd.jupyter.widget-view+json": {
       "model_id": "53123c792f1a4fae836388c0bf27e16f",
       "version_major": 2,
       "version_minor": 0
      },
      "text/plain": [
       "Applying CustomNodeFilter:   0%|          | 0/16 [00:00<?, ?it/s]"
      ]
     },
     "metadata": {},
     "output_type": "display_data"
    },
    {
     "data": {
      "application/vnd.jupyter.widget-view+json": {
       "model_id": "fe7d25202d76451bab7556deab78bc31",
       "version_major": 2,
       "version_minor": 0
      },
      "text/plain": [
       "Applying [EmbeddingExtractor, ThemesExtractor, NERExtractor]:   0%|          | 0/43 [00:00<?, ?it/s]"
      ]
     },
     "metadata": {},
     "output_type": "display_data"
    },
    {
     "name": "stderr",
     "output_type": "stream",
     "text": [
      "Property 'summary_embedding' already exists in node '232844'. Skipping!\n",
      "Property 'summary_embedding' already exists in node 'e031ab'. Skipping!\n",
      "Property 'summary_embedding' already exists in node 'b15a3d'. Skipping!\n"
     ]
    },
    {
     "data": {
      "application/vnd.jupyter.widget-view+json": {
       "model_id": "7af0e530a7f245418418d1065a0f1a2a",
       "version_major": 2,
       "version_minor": 0
      },
      "text/plain": [
       "Applying [CosineSimilarityBuilder, OverlapScoreBuilder]:   0%|          | 0/2 [00:00<?, ?it/s]"
      ]
     },
     "metadata": {},
     "output_type": "display_data"
    },
    {
     "data": {
      "application/vnd.jupyter.widget-view+json": {
       "model_id": "152d78a044b5489b9ffea4e4dc68d3cd",
       "version_major": 2,
       "version_minor": 0
      },
      "text/plain": [
       "Generating Scenarios:   0%|          | 0/1 [00:00<?, ?it/s]"
      ]
     },
     "metadata": {},
     "output_type": "display_data"
    },
    {
     "data": {
      "application/vnd.jupyter.widget-view+json": {
       "model_id": "86d251afc9444f268c930958da599fd0",
       "version_major": 2,
       "version_minor": 0
      },
      "text/plain": [
       "Generating Samples:   0%|          | 0/30 [00:00<?, ?it/s]"
      ]
     },
     "metadata": {},
     "output_type": "display_data"
    }
   ],
   "source": [
    "single_hop_testset = generator.generate_with_llamaindex_docs(\n",
    "    documents=documents,\n",
    "    testset_size=30,\n",
    "    query_distribution=[(SingleHopSpecificQuerySynthesizer(name=\"single_hop_specific\"), 1.0)]\n",
    ")\n",
    "multi_hop_specific_testset = generator.generate_with_llamaindex_docs(\n",
    "    documents=documents,\n",
    "    testset_size=30,\n",
    "    query_distribution=[(MultiHopSpecificQuerySynthesizer(name=\"multi_hop_specific\"), 1.0)]\n",
    ")\n",
    "multi_hop_abstract_testset = generator.generate_with_llamaindex_docs(\n",
    "    documents=documents,\n",
    "    testset_size=30,\n",
    "    query_distribution=[(MultiHopAbstractQuerySynthesizer(name=\"multi_hop_abstract\"), 1.0)]\n",
    ")\n"
   ]
  },
  {
   "cell_type": "code",
   "execution_count": null,
   "metadata": {},
   "outputs": [
    {
     "data": {
      "text/plain": [
       "ragas.testset.synthesizers.testset_schema.Testset"
      ]
     },
     "execution_count": 25,
     "metadata": {},
     "output_type": "execute_result"
    }
   ],
   "source": [
    "type(single_hop_testset)"
   ]
  },
  {
   "cell_type": "code",
   "execution_count": null,
   "metadata": {},
   "outputs": [
    {
     "data": {
      "application/vnd.jupyter.widget-view+json": {
       "model_id": "7e8eeebb145c4b5480c913f31fbc9f89",
       "version_major": 2,
       "version_minor": 0
      },
      "text/plain": [
       "Running Query Engine:   0%|          | 0/30 [00:00<?, ?it/s]"
      ]
     },
     "metadata": {},
     "output_type": "display_data"
    },
    {
     "data": {
      "application/vnd.jupyter.widget-view+json": {
       "model_id": "7cb2e6313b4d4b07b685a1383a1a6dfe",
       "version_major": 2,
       "version_minor": 0
      },
      "text/plain": [
       "Evaluating:   0%|          | 0/150 [00:00<?, ?it/s]"
      ]
     },
     "metadata": {},
     "output_type": "display_data"
    },
    {
     "name": "stdout",
     "output_type": "stream",
     "text": [
      "{'faithfulness': 0.8113, 'answer_relevancy': 0.9375, 'context_precision': 0.8167, 'context_recall': 0.7389, 'answer_correctness': 0.4814}\n"
     ]
    }
   ],
   "source": [
    "result = evaluate(\n",
    "    query_engine=query_engine,\n",
    "    metrics=metrics,\n",
    "    dataset=single_hop_testset.to_evaluation_dataset(),\n",
    ")\n",
    "pprint(result, indent=4)"
   ]
  },
  {
   "cell_type": "code",
   "execution_count": null,
   "metadata": {},
   "outputs": [
    {
     "data": {
      "application/vnd.jupyter.widget-view+json": {
       "model_id": "b0f2fdad93ae4af0bbf26e0add448857",
       "version_major": 2,
       "version_minor": 0
      },
      "text/plain": [
       "Running Query Engine:   0%|          | 0/30 [00:00<?, ?it/s]"
      ]
     },
     "metadata": {},
     "output_type": "display_data"
    },
    {
     "data": {
      "application/vnd.jupyter.widget-view+json": {
       "model_id": "32297eda2716488c95b3ebfcabfddc7f",
       "version_major": 2,
       "version_minor": 0
      },
      "text/plain": [
       "Evaluating:   0%|          | 0/150 [00:00<?, ?it/s]"
      ]
     },
     "metadata": {},
     "output_type": "display_data"
    },
    {
     "name": "stdout",
     "output_type": "stream",
     "text": [
      "{'faithfulness': 0.8234, 'answer_relevancy': 0.9598, 'context_precision': 0.8500, 'context_recall': 0.7911, 'answer_correctness': 0.5685}\n"
     ]
    }
   ],
   "source": [
    "result = evaluate(\n",
    "    query_engine=query_engine,\n",
    "    metrics=metrics,\n",
    "    dataset=multi_hop_specific_testset.to_evaluation_dataset(),\n",
    ")\n",
    "pprint(result, indent=4)"
   ]
  },
  {
   "cell_type": "code",
   "execution_count": null,
   "metadata": {},
   "outputs": [
    {
     "data": {
      "application/vnd.jupyter.widget-view+json": {
       "model_id": "fa81da23859f48e28401a67076aeb672",
       "version_major": 2,
       "version_minor": 0
      },
      "text/plain": [
       "Running Query Engine:   0%|          | 0/30 [00:00<?, ?it/s]"
      ]
     },
     "metadata": {},
     "output_type": "display_data"
    },
    {
     "data": {
      "application/vnd.jupyter.widget-view+json": {
       "model_id": "32b836a7436f449f8aa50a6b435352de",
       "version_major": 2,
       "version_minor": 0
      },
      "text/plain": [
       "Evaluating:   0%|          | 0/150 [00:00<?, ?it/s]"
      ]
     },
     "metadata": {},
     "output_type": "display_data"
    },
    {
     "name": "stdout",
     "output_type": "stream",
     "text": [
      "{'faithfulness': 0.7602, 'answer_relevancy': 0.9717, 'context_precision': 0.9833, 'context_recall': 0.8500, 'answer_correctness': 0.5806}\n"
     ]
    }
   ],
   "source": [
    "result = evaluate(\n",
    "    query_engine=query_engine,\n",
    "    metrics=metrics,\n",
    "    dataset=multi_hop_abstract_testset.to_evaluation_dataset(),\n",
    ")\n",
    "pprint(result, indent=4)"
   ]
  }
 ],
 "metadata": {
  "kernelspec": {
   "display_name": ".venv (3.12.3)",
   "language": "python",
   "name": "python3"
  },
  "language_info": {
   "codemirror_mode": {
    "name": "ipython",
    "version": 3
   },
   "file_extension": ".py",
   "mimetype": "text/x-python",
   "name": "python",
   "nbconvert_exporter": "python",
   "pygments_lexer": "ipython3",
   "version": "3.12.3"
  }
 },
 "nbformat": 4,
 "nbformat_minor": 2
}
